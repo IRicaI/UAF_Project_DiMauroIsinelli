{
 "cells": [
  {
   "cell_type": "markdown",
   "id": "9dc787f2-53ab-4846-9822-6f5de30b1498",
   "metadata": {},
   "source": [
    "# Progetto Ulteriori Attività Formative (UAF): analisi impronte digitali per autenticazione"
   ]
  },
  {
   "cell_type": "markdown",
   "id": "96d59d26-d0b4-464d-9699-bb8569703625",
   "metadata": {},
   "source": [
    "## Importazione librerie"
   ]
  },
  {
   "cell_type": "code",
   "execution_count": 1,
   "id": "6267009f-2bd2-44e6-a0ce-61ef2ac225c2",
   "metadata": {},
   "outputs": [
    {
     "ename": "ModuleNotFoundError",
     "evalue": "No module named 'cv2'",
     "output_type": "error",
     "traceback": [
      "\u001b[0;31m---------------------------------------------------------------------------\u001b[0m",
      "\u001b[0;31mModuleNotFoundError\u001b[0m                       Traceback (most recent call last)",
      "Cell \u001b[0;32mIn[1], line 2\u001b[0m\n\u001b[1;32m      1\u001b[0m \u001b[38;5;28;01mimport\u001b[39;00m \u001b[38;5;21;01mos\u001b[39;00m\n\u001b[0;32m----> 2\u001b[0m \u001b[38;5;28;01mimport\u001b[39;00m \u001b[38;5;21;01mcv2\u001b[39;00m\n\u001b[1;32m      3\u001b[0m \u001b[38;5;28;01mimport\u001b[39;00m \u001b[38;5;21;01mmatplotlib\u001b[39;00m\u001b[38;5;21;01m.\u001b[39;00m\u001b[38;5;21;01mpyplot\u001b[39;00m \u001b[38;5;28;01mas\u001b[39;00m \u001b[38;5;21;01mplt\u001b[39;00m\n\u001b[1;32m      4\u001b[0m \u001b[38;5;28;01mimport\u001b[39;00m \u001b[38;5;21;01mnumpy\u001b[39;00m \u001b[38;5;28;01mas\u001b[39;00m \u001b[38;5;21;01mnp\u001b[39;00m\n",
      "\u001b[0;31mModuleNotFoundError\u001b[0m: No module named 'cv2'"
     ]
    }
   ],
   "source": [
    "import os\n",
    "import cv2\n",
    "import matplotlib.pyplot as plt\n",
    "import numpy as np\n",
    "import hashlib"
   ]
  },
  {
   "cell_type": "markdown",
   "id": "50e0b062-cb8f-408d-bed4-b76dd758e4e7",
   "metadata": {},
   "source": [
    "## Definizione funzioni per pre-processamento e calcolo della similarità"
   ]
  },
  {
   "cell_type": "markdown",
   "id": "00257647-95fd-449f-bb09-24d5d851bf7f",
   "metadata": {},
   "source": [
    "### Pre-processamento delle immagini"
   ]
  },
  {
   "cell_type": "code",
   "execution_count": 3,
   "id": "49895aae-8128-4f6a-9f6e-43c88bc61f19",
   "metadata": {},
   "outputs": [],
   "source": [
    "def preprocess_image(image_path):\n",
    "    image = cv2.imread(image_path)\n",
    "    if image is None:\n",
    "        print(f\"Errore nel caricare l'immagine: {image_path}\")\n",
    "        return None\n",
    "    gray = cv2.cvtColor(image, cv2.COLOR_BGR2GRAY)\n",
    "    blurred = cv2.GaussianBlur(gray, (5, 5), 0)\n",
    "    _, binary_image = cv2.threshold(blurred, 100, 255, cv2.THRESH_BINARY)\n",
    "    return binary_image"
   ]
  },
  {
   "cell_type": "markdown",
   "id": "efe30fee-e7f5-4e4f-b482-20711ef24f6b",
   "metadata": {},
   "source": [
    "### Calcolo similarità bordi"
   ]
  },
  {
   "cell_type": "code",
   "execution_count": null,
   "id": "342a0a16-074d-452a-b2de-76c16863e947",
   "metadata": {},
   "outputs": [],
   "source": [
    "def compare_edges(edges1, edges2):\n",
    "    diff = cv2.absdiff(edges1, edges2)\n",
    "    return np.sum(diff)"
   ]
  },
  {
   "cell_type": "markdown",
   "id": "37fad59f-2f67-4f59-a87c-d9b0722268a7",
   "metadata": {},
   "source": [
    "### Rilevamento dei bordi"
   ]
  },
  {
   "cell_type": "code",
   "execution_count": null,
   "id": "a0b3a977-31b9-4b4d-a30c-0cdb49227f89",
   "metadata": {},
   "outputs": [],
   "source": [
    "# Canny Edge Detector\n",
    "def detect_edges(image):\n",
    "    edges = cv2.Canny(image, 100, 200)\n",
    "    return edges"
   ]
  },
  {
   "cell_type": "markdown",
   "id": "c44f0375-f4a7-4dac-bd9c-5ce6a9377885",
   "metadata": {},
   "source": [
    "### Estrazione Keypoints"
   ]
  },
  {
   "cell_type": "code",
   "execution_count": null,
   "id": "23463ff4-daed-4c18-96d6-132deadf5a75",
   "metadata": {},
   "outputs": [],
   "source": [
    "# Descrittore Oriented Fast end Rotated Brief (ORB)\n",
    "def extract_keypoints_and_descriptors(image):\n",
    "    orb = cv2.ORB_create()\n",
    "    keypoints, descriptors = orb.detectAndCompute(image, None)\n",
    "    return keypoints, descriptors"
   ]
  },
  {
   "cell_type": "markdown",
   "id": "926ed782-d380-47c0-a7cf-4b82aef03e6a",
   "metadata": {},
   "source": [
    "### Matching tra descrittori"
   ]
  },
  {
   "cell_type": "code",
   "execution_count": null,
   "id": "394f75cc-56c0-438c-ab00-f2fae4692db3",
   "metadata": {},
   "outputs": [],
   "source": [
    "# BFMatcher\n",
    "def match_keypoints(descriptors_train, descriptors_test):\n",
    "    bf = cv2.BFMatcher(cv2.NORM_HAMMING, crossCheck=True)\n",
    "    matches = bf.match(descriptors_train, descriptors_test)\n",
    "    matches = sorted(matches, key = lambda x: x.distance)\n",
    "    return matches"
   ]
  },
  {
   "cell_type": "markdown",
   "id": "6797a72a-4d72-4191-b96a-b11935d9970b",
   "metadata": {},
   "source": [
    "### Calcolo e confronto Hash delle immagini"
   ]
  },
  {
   "cell_type": "code",
   "execution_count": null,
   "id": "5e572084-ee0b-49fd-bc21-0ebd128c0c81",
   "metadata": {},
   "outputs": [],
   "source": [
    "def calculate_image_hash(image_path):\n",
    "    with open(image_path, 'rb') as f:\n",
    "        image_bytes = f.read()\n",
    "        return hashlib.md5(image_bytes).hexdigest()\n",
    "\n",
    "def compare_hashes(hash1, hash2):\n",
    "    return hash1 == hash2"
   ]
  },
  {
   "cell_type": "markdown",
   "id": "3ea78f45-1b63-4b34-bac3-937ba4947a39",
   "metadata": {},
   "source": [
    "## Categorizzazione immagini"
   ]
  },
  {
   "cell_type": "code",
   "execution_count": null,
   "id": "feee4904-c3d8-47d6-9adb-218d8d561afc",
   "metadata": {},
   "outputs": [],
   "source": [
    "def categorize_images(image_path_train, image_path_test):\n",
    "    # Preprocessa le immagini\n",
    "    processed_image_train = preprocess_image(image_path_train)\n",
    "    processed_image_test = preprocess_image(image_path_test)\n",
    "\n",
    "    # Calcolare i bordi per due immagini (in questo caso, le immagini preprocessate train e test)\n",
    "    edges_image_train = detect_edges(processed_image_train)\n",
    "    edges_image_test = detect_edges(processed_image_test)\n",
    "\n",
    "    # Calcolare la similarità dei bordi tra le due immagini\n",
    "    edge_similarity = compare_edges(edges_image_train, edges_image_test)\n",
    "\n",
    "    # Estrai keypoints e descrittori per le due immagini\n",
    "    keypoints_train, descriptors_train = extract_keypoints_and_descriptors(processed_image_train)\n",
    "    keypoints_test, descriptors_test = extract_keypoints_and_descriptors(processed_image_test)\n",
    "\n",
    "    # Fai il matching tra i descrittori delle due immagini\n",
    "    matches = match_keypoints(descriptors_train, descriptors_test)\n",
    "\n",
    "    # Calcola la somiglianza in base al numero di match\n",
    "    similarity_keypoints = len(matches)\n",
    "\n",
    "    # Calcola gli hash delle due immagini\n",
    "    hash_train = calculate_image_hash(image_path_train)\n",
    "    hash_test = calculate_image_hash(image_path_test)\n",
    "\n",
    "    # Confronta gli hash\n",
    "    hash_similarity = compare_hashes(hash_train, hash_test)\n",
    "\n",
    "    # Determina la categoria dell'immagine\n",
    "    if hash_similarity:\n",
    "        category = \"Uguali (hash identici)\"\n",
    "    else:\n",
    "        category = \"Diverse (bassi match e differenze nei bordi)\"\n",
    "    \n",
    "    return category, keypoints_train, keypoints_test, matches, edges_image_train, edges_image_test, similarity_keypoints, edge_similarity\n",
    "\n",
    "image_files_train = [f for f in os.listdir(train_folder) if f.endswith('.tif')]\n",
    "image_files_test = [f for f in os.listdir(test_folder) if f.endswith('.tif')]\n",
    "\n",
    "# Variabili per memorizzare una coppia per ogni caso\n",
    "equal_image_pair = None\n",
    "different_image_pair = None\n",
    "\n",
    "# Cerca e categorizza le immagini\n",
    "for image_file_train in image_files_train:\n",
    "    image_path_train = os.path.join(train_folder, image_file_train)\n",
    "    for image_file_test in image_files_test:\n",
    "        image_path_test = os.path.join(test_folder, image_file_test)\n",
    "\n",
    "        # Categorizza la coppia\n",
    "        category, keypoints_train, keypoints_test, matches, edges_image_train, edges_image_test, similarity_keypoints, edge_similarity = categorize_images(image_path_train, image_path_test)\n",
    "\n",
    "        # Assegna la coppia al relativo caso\n",
    "        if category == \"Uguali (hash identici)\" and equal_image_pair is None:\n",
    "            equal_image_pair = (image_path_train, image_path_test, keypoints_train, keypoints_test, matches, edges_image_train, edges_image_test)\n",
    "        elif category == \"Diverse (bassi match e differenze nei bordi)\" and different_image_pair is None:\n",
    "            different_image_pair = (image_path_train, image_path_test, keypoints_train, keypoints_test, matches, edges_image_train, edges_image_test)\n",
    "\n",
    "        # Break if we have both cases\n",
    "        if equal_image_pair and different_image_pair:\n",
    "            break\n",
    "    if equal_image_pair and different_image_pair:\n",
    "        break"
   ]
  },
  {
   "cell_type": "markdown",
   "id": "4380fffc-2c53-423f-a452-adc7d1088fec",
   "metadata": {},
   "source": [
    "## Visualizzazione immagini"
   ]
  },
  {
   "cell_type": "code",
   "execution_count": null,
   "id": "078de6c4-2b78-40b3-8d0e-934c5b49106d",
   "metadata": {},
   "outputs": [],
   "source": [
    "def display_results(image_pair, title):\n",
    "    image_path_train, image_path_test, keypoints_train, keypoints_test, matches, edges_image_train, edges_image_test = image_pair\n",
    "\n",
    "    # Carica le immagini originali per la visualizzazione\n",
    "    img_train = cv2.imread(image_path_train)\n",
    "    img_test = cv2.imread(image_path_test)\n",
    "\n",
    "    # Visualizza i bordi\n",
    "    plt.figure(figsize=(12, 6))\n",
    "    plt.subplot(1, 3, 1)\n",
    "    plt.imshow(edges_image_train, cmap='gray')\n",
    "    plt.title('Bordi Immagine Train')\n",
    "    plt.axis('off')\n",
    "\n",
    "    plt.subplot(1, 3, 2)\n",
    "    plt.imshow(edges_image_test, cmap='gray')\n",
    "    plt.title('Bordi Immagine Test')\n",
    "    plt.axis('off')\n",
    "\n",
    "    plt.subplot(1, 3, 3)\n",
    "    diff_edges = cv2.absdiff(edges_image_train, edges_image_test)\n",
    "    plt.imshow(diff_edges, cmap='hot')\n",
    "    plt.title(f'Differenza Bordi')\n",
    "    plt.axis('off')\n",
    "\n",
    "    plt.tight_layout()\n",
    "    plt.show()\n",
    "\n",
    "    # Visualizza i keypoints ORB\n",
    "    img_with_keypoints_train = cv2.drawKeypoints(img_train, keypoints_train, None, color=(0, 255, 0))\n",
    "    img_with_keypoints_test = cv2.drawKeypoints(img_test, keypoints_test, None, color=(0, 255, 0))\n",
    "\n",
    "    plt.figure(figsize=(12, 6))\n",
    "    plt.subplot(1, 2, 1)\n",
    "    plt.imshow(img_with_keypoints_train)\n",
    "    plt.title('Keypoints Immagine Train')\n",
    "    plt.axis('off')\n",
    "\n",
    "    plt.subplot(1, 2, 2)\n",
    "    plt.imshow(img_with_keypoints_test)\n",
    "    plt.title('Keypoints Immagine Test')\n",
    "    plt.axis('off')\n",
    "\n",
    "    plt.tight_layout()\n",
    "    plt.show()\n",
    "\n",
    "    # Visualizza i match tra i keypoints\n",
    "    matched_image = cv2.drawMatches(img_train, keypoints_train, img_test, keypoints_test, matches[:20], None, flags=cv2.DrawMatchesFlags_NOT_DRAW_SINGLE_POINTS)\n",
    "    plt.figure(figsize=(10, 6))\n",
    "    plt.imshow(matched_image)\n",
    "    plt.title(f\"Numero di Match tra Keypoints: {len(matches)}\")\n",
    "    plt.axis('off')\n",
    "    plt.show()"
   ]
  },
  {
   "cell_type": "markdown",
   "id": "cfe710c3-ec65-4406-a6c3-3903131a1e73",
   "metadata": {},
   "source": [
    "### Caso 1: coppia di immagini uguali"
   ]
  },
  {
   "cell_type": "code",
   "execution_count": null,
   "id": "8ece0f53-10e1-407b-a4b8-84dc97187979",
   "metadata": {},
   "outputs": [],
   "source": [
    "# Visualizza i risultati per ogni caso\n",
    "print(\"Immagini Uguali\")\n",
    "display_results(equal_image_pair, \"Immagini Uguali\")"
   ]
  },
  {
   "cell_type": "markdown",
   "id": "a72870f7-8d7d-4f63-9f26-366786f14faf",
   "metadata": {},
   "source": [
    "### Caso 2: coppia di immagini diverse"
   ]
  },
  {
   "cell_type": "code",
   "execution_count": null,
   "id": "faa091e1-d40f-4bdd-b3f7-41ff59945720",
   "metadata": {},
   "outputs": [],
   "source": [
    "print(\"Immagini Diverse)\")\n",
    "display_results(different_image_pair, \"Immagini Diverse\")"
   ]
  },
  {
   "cell_type": "code",
   "execution_count": null,
   "id": "474aa87c-2e6e-4887-a3a0-2926cf5a9259",
   "metadata": {},
   "outputs": [],
   "source": []
  }
 ],
 "metadata": {
  "kernelspec": {
   "display_name": "Python 3 (ipykernel)",
   "language": "python",
   "name": "python3"
  },
  "language_info": {
   "codemirror_mode": {
    "name": "ipython",
    "version": 3
   },
   "file_extension": ".py",
   "mimetype": "text/x-python",
   "name": "python",
   "nbconvert_exporter": "python",
   "pygments_lexer": "ipython3",
   "version": "3.11.11"
  }
 },
 "nbformat": 4,
 "nbformat_minor": 5
}
